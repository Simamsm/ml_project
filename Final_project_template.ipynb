{
  "cells": [
    {
      "cell_type": "markdown",
      "metadata": {
        "id": "El72Lv819ve4"
      },
      "source": [
        "# Title: Cardiovascular Disease Prediction Using Deep Learning\n",
        "\n",
        "#### Group Member Names : Sima Masoumi, Ansar Atiq\n",
        "\n",
        "\n"
      ]
    },
    {
      "cell_type": "markdown",
      "metadata": {
        "id": "Z4uDJfRv9ve_"
      },
      "source": [
        "### INTRODUCTION:\n",
        "*********************************************************************************************************************\n",
        "#### AIM :\n",
        "In The original paper that I have selected <a href=\"https://www.sciencedirect.com/science/article/abs/pii/S0010482522004164\">Ensemble framework for cardiovascular disease prediction</a> tree-based models were used, in this paper we are exercising deep learning to make improvement in the model performance.\n",
        "At the end, the evaluation metrics of the Deep Learning model will be compared to the original tree based models to see if the Deep Learning model can be more accurate in predicting heart disease.\n",
        "*********************************************************************************************************************\n",
        "#### Github Repo:\n",
        "https://github.com/Simamsm/ml_project\n",
        "*********************************************************************************************************************\n",
        "#### DESCRIPTION OF PAPER:\n",
        "The paper presents a machine learning-based framework for predicting heart diseases, outlining its structure including literature review, algorithms, experiments, and conclusions. The framework aims to enhance heart disease prediction, benefiting medical practices and patient care.\n",
        "*********************************************************************************************************************\n",
        "#### PROBLEM STATEMENT :\n",
        "* Try to replicate the results given in paper on the binary class classification to predict heart disease.\n",
        "* Instead of the original tree based models, use a Deep Learning approach which can be trained on a new data set.\n",
        "* To compare the performance of the Deep Learning model with the original tree based models\n",
        "*********************************************************************************************************************\n",
        "#### CONTEXT OF THE PROBLEM:\n",
        "* The tree based models usually perform very well, however, Deep Learning models can also be very accurate in other cases, usually when there is more data available.\n",
        "* In this work, deep learning models will be used and if the performance is better or even equal to the tree based models, it will be a better alternative. In case of equal performance, deep learning models will perform better in future once there is more data available.\n",
        "*********************************************************************************************************************\n",
        "#### SOLUTION:\n",
        "* There will be Exploratory Data Analysis on the data to understand the features impacting heart disease\n",
        "* Then there will be a deep learning model trained to be able to predict the heart disease.\n"
      ]
    },
    {
      "cell_type": "markdown",
      "metadata": {
        "id": "2a3R1jTI9vfE"
      },
      "source": [
        "# Background\n",
        "*********************************************************************************************************************\n",
        "In the original paper, they divided their work into 4 steps:\n",
        "1. Data understanding and EDA\n",
        "2. Training of various models\n",
        "3. Feature selection\n",
        "4. Final model training by stacking all the models.\n",
        "5. Evaluating the final model\n",
        "\n",
        "| No. | References         | Explanation                                                             | Dataset/input   | Weakness                                                                                                 |\n",
        "|--------|-------------------|-------------------------------------------------------------------------|-----------|------------------------------------------------------------------------------------------------------------|\n",
        "| 1      | Modak et al.(2022)| Multilayer perceptron for heart disease classification.                  | Cleveland, Hungarian, Switzerland, Long Beach, Statlog | The approach's performance on datasets other than the specified ones is unknown. Additionally, the interpretability of the multilayer perceptron model is limited. |\n",
        "| 2      | Sarah et al.(2022)| Logistic regression for heart disease classification.                    | Cleveland | Logistic regression might struggle if there are complex nonlinear relationships in the data.             |\n",
        "| 3      | Nguyen et al.(2021)| Naive Bayes, Logistic Regression, SVM, and Decision Trees for heart disease classification. | Cleveland | Naive Bayes and Logistic Regression could underperform on datasets with high dimensionality. SVM and Decision Trees might require extensive hyperparameter tuning for optimal results. |\n",
        "| 4      | Latha et al.(2019)| Random Forest, Multilayer Perceptron, Bayes Net, Naive Bayes for heart disease classification. | Cleveland | Random Forest and Multilayer Perceptron might struggle with imbalanced datasets. The Bayes Net and Naive Bayes might struggle if independence assumptions are violated. |\n",
        "| 5      | Atallah et al.(2019)| SGD, KNearest Neighbor, Random Forest, Logistic Regression for heart disease classification. | Cleveland | SGD Classifier's convergence might be sensitive to learning rate and scaling. KNearest Neighbor's performance could be affected by noisy or irrelevant features. Random Forest's interpretability might be limited compared to simpler models. |\n",
        "| 6      | Pawlovsky (2018)  | Weighted k-nearest neighbour for heart disease classification.            | Cleveland | The performance of weighted k-nearest neighbor might degrade in high-dimensional spaces. Sensitivity to the choice of distance metric and k-value. |\n",
        "| 7      | Bialy et al.(2016)| Ensemble of FDT, C4.5, MLP, SVM, and Naive Bayes for heart disease classification. | Cleveland | Ensemble methods might require additional computational resources. The performance gain from combining models might plateau if base models are similar. |\n",
        "\n",
        "\n",
        "\n",
        "\n",
        "*********************************************************************************************************************\n",
        "\n",
        "\n",
        "\n",
        "\n"
      ]
    },
    {
      "cell_type": "markdown",
      "metadata": {
        "id": "8PHxOa3M9vfM"
      },
      "source": [
        "# Implement paper code :\n",
        "*********************************************************************************************************************\n",
        "\n",
        "* The code from the paper was implemented and there were some errors from differences in library versions and some other matters. They were taken care of. The paper code after the updates can be found in <a href=\"https://github.com/Simamsm/ml_project/blob/main/original_project.ipynb\">here</a>\n",
        "\n"
      ]
    },
    {
      "cell_type": "markdown",
      "metadata": {
        "id": "gtq0QtsE9vfN"
      },
      "source": [
        "*********************************************************************************************************************\n",
        "### Contribution  Code :\n",
        "* The notebook containing the contribution code can be found <a href=\"https://github.com/Simamsm/ml_project/blob/main/significant_contribution.ipynb\">here</a><br><br>\n",
        "Steps taken in the code:\n",
        "1. Data wrangling and understanding.\n",
        "2. Exploratory data analysis\n",
        "3. Data pre-processing\n",
        "4. Model building using deep learning\n",
        "5. Applying early stopping\n",
        "6. Finding the best threshold for the positive and negative classes using the Geometric Mean (G-Mean) method\n",
        "7. Model performance evaluation"
      ]
    },
    {
      "cell_type": "markdown",
      "metadata": {
        "id": "3nJwDv3L9vfO"
      },
      "source": [
        "### Results :\n",
        "*******************************************************************************************************************************\n",
        "\n",
        "Some of the factors contributing heart disease:\n",
        "1. Patients with heart disease tend to have lower cholesterol level\n",
        "2. With the data we have in hand, it seems like the patients suffering from heart disease tend to be younger<br>\n",
        "Patients with downsloping have the highest rate of heart disease, around 75 percent.<br>\n",
        "3. Patients with resting electrocardiographic results being ST-S Abnormality have the highest rate of heart disease, about 60 percent of them had a heart disease<br>\n",
        "4. IT seems like fasting blood sugar > 120 mg/dl does not have a direct impact on heart disease.\n",
        "\n",
        "\n",
        "#### Observations :\n",
        "*******************************************************************************************************************************\n",
        "* The deep learning model has a recall score of 97 percent on the test data\n"
      ]
    },
    {
      "cell_type": "markdown",
      "metadata": {
        "id": "a9Ev3jp49vfP"
      },
      "source": [
        "### Conclusion and Future Direction :\n",
        "*******************************************************************************************************************************\n",
        "Conclusion:\n",
        "In this project, we found the factors contributing into heart disease (mentioned above) and also a deep learning model was trained to predict heart diseas.\n",
        "The deep learning model, although its performance is very well, it can benefit from having more training data. As we know, neural network models will have higher performance when more data is available, so as a future work to this project, more training data can be used and then the subsequent model's performance can be compared to the model trained in this project.\n",
        "#### Learnings :\n",
        "\n",
        "*******************************************************************************************************************************\n",
        "We learned how deep learning methods can be used on a data set with both categorical and numerical features. Also we learned how early stopping method can stop the training at the right time to prevent from overfitting. We also learned how we can set athreshold for the predictions to have positive and negative classes in the predictions.\n",
        "#### Results Discussion :\n",
        "\n",
        "\n",
        "*******************************************************************************************************************************\n",
        "#### Limitations :\n",
        "There was limitation on the amount of data available to train the model. There were around 1.2K samples which is typically not enough for deep learning models, however in this case, the model performance was still very good.\n",
        "\n",
        "\n",
        "*******************************************************************************************************************************\n",
        "#### Future Extension :\n",
        "In future, hyperparameter tuning can be done to tune the parameters available in deep learning models. Also collecting more training data will be very important to have an improvement in model performance."
      ]
    },
    {
      "cell_type": "markdown",
      "metadata": {
        "id": "yc2H1wjh9vfQ"
      },
      "source": [
        "# References:\n",
        "\n",
        "[1]:  There is no specific reference for the code we have in this project, the code is mostly from our own understanding and also some online resource such as StackOverFlow and Kaggle."
      ]
    }
  ],
  "metadata": {
    "kernelspec": {
      "display_name": "Python 3",
      "language": "python",
      "name": "python3"
    },
    "language_info": {
      "codemirror_mode": {
        "name": "ipython",
        "version": 3
      },
      "file_extension": ".py",
      "mimetype": "text/x-python",
      "name": "python",
      "nbconvert_exporter": "python",
      "pygments_lexer": "ipython3",
      "version": "3.8.5"
    },
    "colab": {
      "provenance": []
    }
  },
  "nbformat": 4,
  "nbformat_minor": 0
}